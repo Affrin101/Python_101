import pandas as pd
import folium
#Read CSV file containing state name with location (latitude, longitude)
url='https://github.com/Affrin101/Python_101/blob/Covid-19-Visulaization/State%20Data%20-%20India.csv'
df=pd.read_csv(url,names=['State','Latitude','Longitude'],index_col=0,header=0)
df
#Read CSV file containing COVID 19 detailed data with state name
covid19 =pd.read_csv('https://api.covid19india.org/csv/latest/state_wise.csv')
covid19

#Clean data in COVID 19 data frame eg. state code

covid19=covid19.iloc[1:,:6]
covid19
covid19['State'] = covid19['State'].apply(lambda x : x.upper())
covid19
#Merge both data frames

finaldf = covid19.merge(df,on='State',how='right')
finaldf

#Create a folium object for map
Map=folium.Map()

#Iter through all the rows of finaldf data frame and showing them on the map using latitude and longitude
def get_label(i):
    label=  'State: <b>'+finaldf.loc[i]['State']+'</b><br>'\
    'Confirmed: <b>'+str(finaldf.loc[i]['Confirmed'])+'</b><br>'\
    'Recovered: <b>'+str(finaldf.loc[i]['Recovered'])+'</b><br>'\
    'Deaths: <b>'+str(finaldf.loc[i]['Deaths'])+'</b><br>'\
    'Active: <b>'+str(finaldf.loc[i]['Active'])+'</b><br>'\
    'Last Updated Time: <b>'+finaldf.loc[i]['Last_Updated_Time']+'</b>'
    return label
    
    def get_loc(i):
    loc=(finaldf.loc[i]['Latitude'],finaldf.loc[i]['Longitude'])
    return loc
    
    for i in finaldf.index:
    folium.Marker(location=get_loc(i),popup=get_label(i)).add_to(Map)
Map
